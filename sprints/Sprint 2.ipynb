{
 "cells": [
  {
   "cell_type": "code",
   "execution_count": 1,
   "id": "4fd756cf",
   "metadata": {},
   "outputs": [
    {
     "data": {
      "text/plain": [
       "'This dataset is from the General Social Survey (GSS), which is a nationally representative \\nsurvey of adults in the United States, conducted since 1972 and run by NORC at the University of\\nChicago. I selected this dataset due to its inclusion of variables like gender, income, \\njob category, and education level, which can offer insights into the patterns among these factors. \\nI was particularly interested in exploring the connection between gender and income.'"
      ]
     },
     "execution_count": 1,
     "metadata": {},
     "output_type": "execute_result"
    }
   ],
   "source": [
    "'''This dataset is from the General Social Survey (GSS), which is a nationally representative \n",
    "survey of adults in the United States, conducted since 1972 and run by NORC at the University of\n",
    "Chicago. I selected this dataset due to its inclusion of variables like gender, income, \n",
    "job category, and education level, which can offer insights into the patterns among these factors. \n",
    "I was particularly interested in exploring the connection between gender and income.'''"
   ]
  },
  {
   "cell_type": "code",
   "execution_count": 11,
   "id": "94db6448",
   "metadata": {},
   "outputs": [
    {
     "name": "stdout",
     "output_type": "stream",
     "text": [
      "   rownames  year  realrinc   age   occ10                          occrecode  \\\n",
      "0         1  1974    4935.0  21.0  5620.0  Office and Administrative Support   \n",
      "1         2  1974   43178.0  41.0  2040.0                       Professional   \n",
      "2         3  1974       NaN  83.0     NaN                                NaN   \n",
      "3         4  1974       NaN  69.0     NaN                                NaN   \n",
      "4         5  1974   18505.0  58.0  5820.0  Office and Administrative Support   \n",
      "\n",
      "   prestg10  childs      wrkstat  gender                educcat     maritalcat  \n",
      "0      25.0     0.0       School    Male            High School        Married  \n",
      "1      66.0     3.0    Full-Time    Male               Bachelor        Married  \n",
      "2       NaN     2.0  Housekeeper  Female  Less Than High School        Widowed  \n",
      "3       NaN     2.0  Housekeeper  Female  Less Than High School        Widowed  \n",
      "4      37.0     0.0    Full-Time  Female            High School  Never Married  \n"
     ]
    }
   ],
   "source": [
    "import pandas as pd\n",
    "\n",
    "# load the data\n",
    "file_path = 'data.csv' \n",
    "data = pd.read_csv(file_path)\n",
    "\n",
    "# display data\n",
    "print(data.head())"
   ]
  },
  {
   "cell_type": "code",
   "execution_count": 12,
   "id": "9e72ecf3",
   "metadata": {},
   "outputs": [
    {
     "name": "stdout",
     "output_type": "stream",
     "text": [
      "   year   income   age   occ10                         occupation  prestg10  \\\n",
      "0  1974   4935.0  21.0  5620.0  Office and Administrative Support      25.0   \n",
      "1  1974  43178.0  41.0  2040.0                       Professional      66.0   \n",
      "4  1974  18505.0  58.0  5820.0  Office and Administrative Support      37.0   \n",
      "5  1974  22206.0  30.0   910.0                   Business/Finance      45.0   \n",
      "6  1974  55515.0  48.0   230.0                   Business/Finance      59.0   \n",
      "\n",
      "   childs    wrkstat  gender    education     maritalcat  \n",
      "0     0.0     School    Male  High School        Married  \n",
      "1     3.0  Full-Time    Male     Bachelor        Married  \n",
      "4     0.0  Full-Time  Female  High School  Never Married  \n",
      "5     0.0     School    Male     Bachelor        Married  \n",
      "6     2.0  Full-Time    Male     Graduate        Married  \n"
     ]
    }
   ],
   "source": [
    "# data cleaning and preparation\n",
    "\n",
    "data = data.dropna() # drop null values\n",
    "data.drop('rownames', axis=1, inplace=True) # drop random column\n",
    "data.rename(columns={'realrinc': 'income', 'occrecode': 'occupation', 'educcat': 'education'}, inplace=True) # rename columns\n",
    "print(data.head())"
   ]
  },
  {
   "cell_type": "code",
   "execution_count": 13,
   "id": "5412f6e7",
   "metadata": {},
   "outputs": [
    {
     "name": "stdout",
     "output_type": "stream",
     "text": [
      "Number of observations: 37185\n",
      "Number of unique categories in 'occupation': 11\n",
      "Number of unique categories in 'gender': 2\n",
      "Number of unique categories in 'education': 5\n",
      "Number of unique categories in 'maritalcat': 5\n",
      "Number of unique categories in 'wrkstat': 8\n",
      "Percentage of missing data per column:\n",
      " year          0.0\n",
      "income        0.0\n",
      "age           0.0\n",
      "occ10         0.0\n",
      "occupation    0.0\n",
      "prestg10      0.0\n",
      "childs        0.0\n",
      "wrkstat       0.0\n",
      "gender        0.0\n",
      "education     0.0\n",
      "maritalcat    0.0\n",
      "dtype: float64\n"
     ]
    }
   ],
   "source": [
    "# explorartory analysis\n",
    "\n",
    "# number of observations\n",
    "print(\"Number of observations:\", data.shape[0]) \n",
    "\n",
    "# number of unique in each categorical category\n",
    "print(\"Number of unique categories in 'occupation':\", data['occupation'].nunique())\n",
    "print(\"Number of unique categories in 'gender':\", data['gender'].nunique())\n",
    "print(\"Number of unique categories in 'education':\", data['education'].nunique())\n",
    "print(\"Number of unique categories in 'maritalcat':\", data['maritalcat'].nunique())\n",
    "print(\"Number of unique categories in 'wrkstat':\", data['wrkstat'].nunique())\n",
    "\n",
    "# percent missing data per column\n",
    "missing_data = data.isnull().mean() * 100\n",
    "print(\"Percentage of missing data per column:\\n\", missing_data)\n",
    "\n"
   ]
  },
  {
   "cell_type": "code",
   "execution_count": 14,
   "id": "76a05fb0",
   "metadata": {},
   "outputs": [
    {
     "data": {
      "image/png": "[encoded data removed]",
      "text/plain": [
       "<Figure size 432x288 with 1 Axes>"
      ]
     },
     "metadata": {
      "needs_background": "light"
     },
     "output_type": "display_data"
    },
    {
     "data": {
      "image/png": "[encoded data removed]",
      "text/plain": [
       "<Figure size 432x288 with 1 Axes>"
      ]
     },
     "metadata": {
      "needs_background": "light"
     },
     "output_type": "display_data"
    }
   ],
   "source": [
    "import seaborn as sns\n",
    "import matplotlib.pyplot as plt\n",
    "\n",
    "# distribution of income (continuous variable)\n",
    "sns.histplot(data['income'], kde=True)\n",
    "plt.title('Distribution of Income')\n",
    "plt.xlabel('Income')\n",
    "plt.ylabel('Frequency')\n",
    "plt.show()\n",
    "\n",
    "# checking for outliers using boxplot\n",
    "sns.boxplot(x=data['income'])\n",
    "plt.title('Boxplot of Income')\n",
    "plt.show()"
   ]
  },
  {
   "cell_type": "code",
   "execution_count": null,
   "id": "4305b48e",
   "metadata": {},
   "outputs": [],
   "source": [
    "# data dictionary\n",
    "data_dictionary = {\n",
    "    'year': {\n",
    "        'description': 'The year the data was collected',\n",
    "        'type': 'integer',\n",
    "        'example_values': [1974],\n",
    "    },\n",
    "    'income': {\n",
    "        'description': 'Annual income of the respondent in USD',\n",
    "        'type': 'float',\n",
    "        'example_values': [4935.0, 43178.0],\n",
    "    },\n",
    "    'age': {\n",
    "        'description': 'Age of the respondent',\n",
    "        'type': 'float',\n",
    "        'example_values': [21.0, 41.0],\n",
    "    },\n",
    "    'occ10': {\n",
    "        'description': 'Occupational code based on 2010 classification',\n",
    "        'type': 'float',\n",
    "        'example_values': [5620.0, 2040.0],\n",
    "    },\n",
    "    'occupation': {\n",
    "        'description': 'Occupation of the respondent',\n",
    "        'type': 'string',\n",
    "        'example_values': ['Office and Administrative Support', 'Professional'],\n",
    "    },\n",
    "    'prestg10': {\n",
    "        'description': 'Prestige score for the job, based on a 2010 scale',\n",
    "        'type': 'float',\n",
    "        'example_values': [25.0, 66.0],\n",
    "    },\n",
    "    'childs': {\n",
    "        'description': 'Number of children',\n",
    "        'type': 'float',\n",
    "        'example_values': [0.0, 3.0],\n",
    "    },\n",
    "    'wrkstat': {\n",
    "        'description': 'Work status of the respondent',\n",
    "        'type': 'string',\n",
    "        'example_values': ['School', 'Full-Time'],\n",
    "    },\n",
    "    'gender': {\n",
    "        'description': 'Gender of the respondent',\n",
    "        'type': 'string',\n",
    "        'example_values': ['Male', 'Female'],\n",
    "    },\n",
    "    'education': {\n",
    "        'description': 'Highest level of education attained by the respondent',\n",
    "        'type': 'string',\n",
    "        'example_values': ['High School', 'Bachelor'],\n",
    "    },\n",
    "    'maritalcat': {\n",
    "        'description': 'Marital status category',\n",
    "        'type': 'string',\n",
    "        'example_values': ['Married', 'Never Married'],\n",
    "    }\n",
    "}"
   ]
  },
  {
   "cell_type": "code",
   "execution_count": null,
   "id": "15525128",
   "metadata": {},
   "outputs": [],
   "source": [
    "# Possible UI Componenets \n",
    "# 1) Having a slider so user can toggle between the years\n",
    "# 2) Drop down that allows user to change x and y axis on graph\n",
    "# 3) Toggle that allows people to switch between genders\n",
    "# 4) Toggle that allows people to switch between marital status"
   ]
  },
  {
   "cell_type": "code",
   "execution_count": null,
   "id": "75e5f6fb",
   "metadata": {},
   "outputs": [],
   "source": [
    "# Possible Data Visualizations\n",
    "# 1) Relationship between educational level and income\n",
    "# 2) Relationship between educational level and income separated by gender\n",
    "# 3) Relationship between gender and income in different job categories\n",
    "# 4) Relationship between income and number of children \n",
    "# 5) Relationship between income and number of children separated by gender"
   ]
  }
 ],
 "metadata": {
  "kernelspec": {
   "display_name": "Python 3",
   "language": "python",
   "name": "python3"
  },
  "language_info": {
   "codemirror_mode": {
    "name": "ipython",
    "version": 3
   },
   "file_extension": ".py",
   "mimetype": "text/x-python",
   "name": "python",
   "nbconvert_exporter": "python",
   "pygments_lexer": "ipython3",
   "version": "3.7.10"
  }
 },
 "nbformat": 4,
 "nbformat_minor": 5
}
